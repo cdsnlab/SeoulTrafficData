{
 "cells": [
  {
   "cell_type": "code",
   "execution_count": 1,
   "metadata": {},
   "outputs": [
    {
     "name": "stderr",
     "output_type": "stream",
     "text": [
      "PROJ: proj_create_from_database: Cannot find proj.db\n"
     ]
    }
   ],
   "source": [
    "import os\n",
    "import fiona\n",
    "import pandas as pd\n",
    "import geopandas as gpd\n",
    "import numpy as np\n",
    "import matplotlib.pyplot as plt"
   ]
  },
  {
   "cell_type": "code",
   "execution_count": 2,
   "metadata": {
    "scrolled": true
   },
   "outputs": [],
   "source": [
    "c = fiona.open('NODELINKDATA-2020-03-31/MOCT_LINK.shp', encoding='euc-kr')\n",
    "link_gdf = gpd.GeoDataFrame.from_features(c, crs=c.crs).to_crs('epsg:4326')\n",
    "c = fiona.open('NODELINKDATA-2020-03-31/MOCT_NODE.shp', encoding='euc-kr')\n",
    "node_gdf = gpd.GeoDataFrame.from_features(c, crs=c.crs).to_crs('epsg:4326')"
   ]
  },
  {
   "cell_type": "code",
   "execution_count": 3,
   "metadata": {},
   "outputs": [
    {
     "data": {
      "text/html": [
       "<div>\n",
       "<style scoped>\n",
       "    .dataframe tbody tr th:only-of-type {\n",
       "        vertical-align: middle;\n",
       "    }\n",
       "\n",
       "    .dataframe tbody tr th {\n",
       "        vertical-align: top;\n",
       "    }\n",
       "\n",
       "    .dataframe thead th {\n",
       "        text-align: right;\n",
       "    }\n",
       "</style>\n",
       "<table border=\"1\" class=\"dataframe\">\n",
       "  <thead>\n",
       "    <tr style=\"text-align: right;\">\n",
       "      <th></th>\n",
       "      <th>geometry</th>\n",
       "      <th>LINK_ID</th>\n",
       "      <th>F_NODE</th>\n",
       "      <th>T_NODE</th>\n",
       "      <th>LANES</th>\n",
       "      <th>ROAD_RANK</th>\n",
       "      <th>ROAD_TYPE</th>\n",
       "      <th>ROAD_NO</th>\n",
       "      <th>ROAD_NAME</th>\n",
       "      <th>ROAD_USE</th>\n",
       "      <th>MULTI_LINK</th>\n",
       "      <th>CONNECT</th>\n",
       "      <th>MAX_SPD</th>\n",
       "      <th>REST_VEH</th>\n",
       "      <th>REST_W</th>\n",
       "      <th>REST_H</th>\n",
       "      <th>LENGTH</th>\n",
       "      <th>REMARK</th>\n",
       "    </tr>\n",
       "  </thead>\n",
       "  <tbody>\n",
       "    <tr>\n",
       "      <th>0</th>\n",
       "      <td>LINESTRING (129.02586 35.31632, 129.02604 35.3...</td>\n",
       "      <td>3880778900</td>\n",
       "      <td>3880289100</td>\n",
       "      <td>3880289500</td>\n",
       "      <td>1</td>\n",
       "      <td>107</td>\n",
       "      <td>000</td>\n",
       "      <td>-</td>\n",
       "      <td>금오14길</td>\n",
       "      <td>0</td>\n",
       "      <td>0</td>\n",
       "      <td>000</td>\n",
       "      <td>40</td>\n",
       "      <td>0</td>\n",
       "      <td>0</td>\n",
       "      <td>0</td>\n",
       "      <td>134.2642</td>\n",
       "      <td>None</td>\n",
       "    </tr>\n",
       "    <tr>\n",
       "      <th>1</th>\n",
       "      <td>LINESTRING (129.02604 35.31752, 129.02611 35.3...</td>\n",
       "      <td>3880779000</td>\n",
       "      <td>3880289500</td>\n",
       "      <td>3880289000</td>\n",
       "      <td>1</td>\n",
       "      <td>107</td>\n",
       "      <td>000</td>\n",
       "      <td>-</td>\n",
       "      <td>금오14길</td>\n",
       "      <td>0</td>\n",
       "      <td>0</td>\n",
       "      <td>000</td>\n",
       "      <td>40</td>\n",
       "      <td>0</td>\n",
       "      <td>0</td>\n",
       "      <td>0</td>\n",
       "      <td>40.1724</td>\n",
       "      <td>None</td>\n",
       "    </tr>\n",
       "    <tr>\n",
       "      <th>2</th>\n",
       "      <td>LINESTRING (129.02598 35.31789, 129.02591 35.3...</td>\n",
       "      <td>3880779100</td>\n",
       "      <td>3880289000</td>\n",
       "      <td>3880289500</td>\n",
       "      <td>1</td>\n",
       "      <td>107</td>\n",
       "      <td>000</td>\n",
       "      <td>-</td>\n",
       "      <td>금오14길</td>\n",
       "      <td>0</td>\n",
       "      <td>0</td>\n",
       "      <td>000</td>\n",
       "      <td>40</td>\n",
       "      <td>0</td>\n",
       "      <td>0</td>\n",
       "      <td>0</td>\n",
       "      <td>40.1723</td>\n",
       "      <td>None</td>\n",
       "    </tr>\n",
       "    <tr>\n",
       "      <th>3</th>\n",
       "      <td>LINESTRING (129.02661 35.31753, 129.02598 35.3...</td>\n",
       "      <td>3880779200</td>\n",
       "      <td>3880289600</td>\n",
       "      <td>3880289500</td>\n",
       "      <td>1</td>\n",
       "      <td>107</td>\n",
       "      <td>000</td>\n",
       "      <td>-</td>\n",
       "      <td>금오14길</td>\n",
       "      <td>0</td>\n",
       "      <td>0</td>\n",
       "      <td>000</td>\n",
       "      <td>40</td>\n",
       "      <td>0</td>\n",
       "      <td>0</td>\n",
       "      <td>0</td>\n",
       "      <td>57.1228</td>\n",
       "      <td>None</td>\n",
       "    </tr>\n",
       "    <tr>\n",
       "      <th>4</th>\n",
       "      <td>LINESTRING (129.02597 35.31747, 129.02660 35.3...</td>\n",
       "      <td>3880779300</td>\n",
       "      <td>3880289500</td>\n",
       "      <td>3880289600</td>\n",
       "      <td>1</td>\n",
       "      <td>107</td>\n",
       "      <td>000</td>\n",
       "      <td>-</td>\n",
       "      <td>금오14길</td>\n",
       "      <td>0</td>\n",
       "      <td>0</td>\n",
       "      <td>000</td>\n",
       "      <td>40</td>\n",
       "      <td>0</td>\n",
       "      <td>0</td>\n",
       "      <td>0</td>\n",
       "      <td>57.1228</td>\n",
       "      <td>None</td>\n",
       "    </tr>\n",
       "  </tbody>\n",
       "</table>\n",
       "</div>"
      ],
      "text/plain": [
       "                                            geometry     LINK_ID      F_NODE  \\\n",
       "0  LINESTRING (129.02586 35.31632, 129.02604 35.3...  3880778900  3880289100   \n",
       "1  LINESTRING (129.02604 35.31752, 129.02611 35.3...  3880779000  3880289500   \n",
       "2  LINESTRING (129.02598 35.31789, 129.02591 35.3...  3880779100  3880289000   \n",
       "3  LINESTRING (129.02661 35.31753, 129.02598 35.3...  3880779200  3880289600   \n",
       "4  LINESTRING (129.02597 35.31747, 129.02660 35.3...  3880779300  3880289500   \n",
       "\n",
       "       T_NODE  LANES ROAD_RANK ROAD_TYPE ROAD_NO ROAD_NAME ROAD_USE  \\\n",
       "0  3880289500      1       107       000       -     금오14길        0   \n",
       "1  3880289000      1       107       000       -     금오14길        0   \n",
       "2  3880289500      1       107       000       -     금오14길        0   \n",
       "3  3880289500      1       107       000       -     금오14길        0   \n",
       "4  3880289600      1       107       000       -     금오14길        0   \n",
       "\n",
       "  MULTI_LINK CONNECT  MAX_SPD REST_VEH  REST_W  REST_H    LENGTH REMARK  \n",
       "0          0     000       40        0       0       0  134.2642   None  \n",
       "1          0     000       40        0       0       0   40.1724   None  \n",
       "2          0     000       40        0       0       0   40.1723   None  \n",
       "3          0     000       40        0       0       0   57.1228   None  \n",
       "4          0     000       40        0       0       0   57.1228   None  "
      ]
     },
     "execution_count": 3,
     "metadata": {},
     "output_type": "execute_result"
    }
   ],
   "source": [
    "link_gdf.head(5)"
   ]
  },
  {
   "cell_type": "code",
   "execution_count": 4,
   "metadata": {},
   "outputs": [],
   "source": [
    "mdf = pd.read_excel('서울시 표준링크 매핑정보_2020년3월 기준.xlsx')"
   ]
  },
  {
   "cell_type": "code",
   "execution_count": null,
   "metadata": {},
   "outputs": [],
   "source": [
    "adf_list = []\n",
    "for fname in sorted(os.listdir('csv')):\n",
    "    adf_list.append(pd.read_csv('csv/'+fname))\n",
    "adf = pd.concat(adf_list)"
   ]
  },
  {
   "cell_type": "code",
   "execution_count": null,
   "metadata": {},
   "outputs": [],
   "source": [
    "adf.head(5)"
   ]
  },
  {
   "cell_type": "code",
   "execution_count": null,
   "metadata": {},
   "outputs": [],
   "source": [
    "for m in adf.columns:\n",
    "    print(m, adf[m].dtype)"
   ]
  },
  {
   "cell_type": "code",
   "execution_count": null,
   "metadata": {},
   "outputs": [],
   "source": [
    "tdf = mdf[mdf['서비스링크'].isin(adf['링크아이디'].unique())]"
   ]
  },
  {
   "cell_type": "code",
   "execution_count": null,
   "metadata": {},
   "outputs": [],
   "source": [
    "from cartoframes.viz import Layer, popup_element\n",
    "Layer(\n",
    "    link_gdf[link_gdf['LINK_ID'].astype(np.int64).isin(tdf['표준링크아이디'])],\n",
    "    popup_click=[\n",
    "        popup_element('LINK_ID'),\n",
    "    ]\n",
    ")"
   ]
  },
  {
   "cell_type": "code",
   "execution_count": null,
   "metadata": {},
   "outputs": [],
   "source": [
    "dcols = adf.columns[8:]"
   ]
  },
  {
   "cell_type": "code",
   "execution_count": null,
   "metadata": {},
   "outputs": [],
   "source": [
    "plt.matshow(adf[adf['링크아이디'] == 1010014100][dcols].values[-40:])\n",
    "plt.show()"
   ]
  },
  {
   "cell_type": "code",
   "execution_count": null,
   "metadata": {},
   "outputs": [],
   "source": []
  }
 ],
 "metadata": {
  "kernelspec": {
   "display_name": "Python 3",
   "language": "python",
   "name": "python3"
  },
  "language_info": {
   "codemirror_mode": {
    "name": "ipython",
    "version": 3
   },
   "file_extension": ".py",
   "mimetype": "text/x-python",
   "name": "python",
   "nbconvert_exporter": "python",
   "pygments_lexer": "ipython3",
   "version": "3.6.10"
  }
 },
 "nbformat": 4,
 "nbformat_minor": 4
}
